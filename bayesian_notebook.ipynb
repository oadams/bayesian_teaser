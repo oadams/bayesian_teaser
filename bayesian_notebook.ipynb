{
 "cells": [
  {
   "cell_type": "code",
   "execution_count": null,
   "metadata": {},
   "outputs": [],
   "source": [
    "import arviz as az\n",
    "import matplotlib\n",
    "import numpy as np\n",
    "import pymc as pm"
   ]
  },
  {
   "attachments": {},
   "cell_type": "markdown",
   "metadata": {},
   "source": [
    "## A Bayesian coin flip example"
   ]
  },
  {
   "cell_type": "code",
   "execution_count": null,
   "metadata": {},
   "outputs": [],
   "source": [
    "obs = np.array([True, True, True, True, False])\n",
    "obs"
   ]
  },
  {
   "cell_type": "code",
   "execution_count": null,
   "metadata": {},
   "outputs": [],
   "source": [
    "with pm.Model() as m1:\n",
    "    p = pm.Beta('p', alpha=1, beta=1)\n",
    "    likelihood = pm.Bernoulli('likelihood', p=p, observed=obs)"
   ]
  },
  {
   "cell_type": "code",
   "execution_count": null,
   "metadata": {},
   "outputs": [],
   "source": [
    "pm.model_to_graphviz(m1)"
   ]
  },
  {
   "attachments": {},
   "cell_type": "markdown",
   "metadata": {},
   "source": [
    "In this diagram, grey refers to observed variables. White refers to hidden ('latent') variables. The rectangle represents duplication of observations. So we have 5 observed Bernoulli trials. These are parametrized by a probability that itself is drawn from a distribution. We don't know what the p is, but we have an idea of the distribution.\n",
    "\n",
    "Another way of looking at this is our model tries to reconcile two pieces of information. Firstly we have a prior which reflects knowledge we have before observing the trials. Secondly we have some observations. The model describes the best way of reconciling these two pieces of information."
   ]
  },
  {
   "cell_type": "code",
   "execution_count": null,
   "metadata": {},
   "outputs": [],
   "source": [
    "with m1:\n",
    "    trace = pm.sample(draws=1000, tune=1000)"
   ]
  },
  {
   "cell_type": "code",
   "execution_count": null,
   "metadata": {},
   "outputs": [],
   "source": [
    "az.plot_trace(trace, var_names=['p'], combined=True)"
   ]
  }
 ],
 "metadata": {
  "kernelspec": {
   "display_name": "bayesian-teaser",
   "language": "python",
   "name": "python3"
  },
  "language_info": {
   "codemirror_mode": {
    "name": "ipython",
    "version": 3
   },
   "file_extension": ".py",
   "mimetype": "text/x-python",
   "name": "python",
   "nbconvert_exporter": "python",
   "pygments_lexer": "ipython3",
   "version": "3.11.1"
  },
  "orig_nbformat": 4,
  "vscode": {
   "interpreter": {
    "hash": "d65e298b304e1e581cb593da63e63d063e4fcf260a1cbeccb73ea2f829843fe0"
   }
  }
 },
 "nbformat": 4,
 "nbformat_minor": 2
}
